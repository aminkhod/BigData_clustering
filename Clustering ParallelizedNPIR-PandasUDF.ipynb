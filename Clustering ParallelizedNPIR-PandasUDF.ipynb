{
 "cells": [
  {
   "cell_type": "code",
   "execution_count": 1,
   "metadata": {},
   "outputs": [],
   "source": [
    "import numpy as np\n",
    "import pandas as pd\n",
    "\n",
    "\n",
    "from NPIR import NPIR\n",
    "\n",
    "from sklearn.utils import shuffle\n",
    "from sklearn.datasets import make_blobs, make_moons\n",
    "from sklearn import metrics\n",
    "\n",
    "import matplotlib.pyplot as plt\n",
    "\n",
    "# ### multiprocessing\n",
    "# from multiprocessing.pool import Pool\n",
    "# import multiprocessing\n",
    "\n",
    "\n",
    "import datetime\n",
    "# import warnings\n",
    "from collections import Counter as Cs\n",
    "from timeit import default_timer as timer\n",
    "from datetime import timedelta\n",
    "\n",
    "\n",
    "import findspark\n",
    "findspark.init()\n",
    "\n",
    "########\n",
    "from pyspark.mllib.clustering import KMeans\n",
    "########\n",
    "from operator import *\n",
    "\n",
    "from pyspark import SparkContext\n",
    "# from pyspark import StorageLevel\n",
    "from pyspark.sql.types import IntegerType, FloatType, BooleanType, StringType, StructType,\\\n",
    "                StructField,ArrayType, DataType\n",
    "from pyspark.sql.types import *\n",
    "\n",
    "from pyspark.sql.functions import udf, log, rand, monotonically_increasing_id, col, broadcast,\\\n",
    "                greatest, desc, asc, row_number, avg, mean, least, struct, lit, sequence, sum, \\\n",
    "                monotonically_increasing_id, pandas_udf, PandasUDFType\n",
    "import pyspark.sql.functions as F\n",
    "\n",
    "from functools import reduce\n",
    "from pyspark.sql import SparkSession, SQLContext, Window, Row, DataFrame\n",
    "from pyspark import SparkConf\n",
    "from scipy.spatial import distance\n",
    "from pyspark.sql.window import Window"
   ]
  },
  {
   "cell_type": "code",
   "execution_count": 2,
   "metadata": {},
   "outputs": [],
   "source": [
    "# config(\"spark.sql.broadcastTimeout\", \"300000s\").\\\n",
    "# config(\"spark.network.timeout\",\"300000s\").config(\"spark.executor.heartbeatInterval\",\"12000000ms\").\\\n",
    "spark = SparkSession.builder.master(\"local[*]\").\\\n",
    "config(\"spark.storage.blockManagerSlaveTimeoutMs\",\"12000001ms\").config(\"spark.driver.maxResultSize\",\"24g\").\\\n",
    "config(\"spark.default.parallelism\", \"200\").config(\"spark.memory.offHeap.enabled\",\"true\").\\\n",
    "config(\"spark.memory.offHeap.size\", \"24g\").config(\"spark.executor.memory\", \"24g\").\\\n",
    "config(\"spark.driver.memory\", \"24g\").appName(\"NPIR_Parallel\").getOrCreate()\n",
    "\n",
    "# spark.conf.set(\"spark.sql.debug.maxToStringFields\", 1000)\n",
    "# spark.conf.set('spark.jars.packages','com.databricks:spark-cav_2.11')\n",
    "# spark.conf.set(\"spark.sql.parquet.compression.codec\",\"gzip\")\n",
    "spark.conf.set(\"spark.sql.execution.arrow.pyspark.enabled\", \"True\")\n"
   ]
  },
  {
   "cell_type": "code",
   "execution_count": 3,
   "metadata": {},
   "outputs": [],
   "source": [
    "sc = spark.sparkContext\n",
    "sqlContext = SQLContext(sc)"
   ]
  },
  {
   "cell_type": "code",
   "execution_count": 4,
   "metadata": {},
   "outputs": [],
   "source": [
    "# x1,y1 = make_blobs(n_samples=200, centers=3, n_features=3,\n",
    "#                 random_state=1)\n",
    "# data = pd.DataFrame(x1)\n",
    "# data['label'] = y1\n",
    "\n",
    "# data = shuffle(data)\n",
    "\n",
    "# data.to_csv('blobs3.csv', index=False)"
   ]
  },
  {
   "cell_type": "code",
   "execution_count": 5,
   "metadata": {},
   "outputs": [],
   "source": [
    "# make_moons\n",
    "x1,y1 = make_moons(n_samples=5000000, random_state=1)\n",
    "data = pd.DataFrame(x1)\n",
    "data['label'] = y1\n",
    "\n",
    "\n",
    "data = shuffle(data)\n",
    "\n",
    "data.to_csv('moons1.csv', index=False)\n",
    "del data"
   ]
  },
  {
   "cell_type": "code",
   "execution_count": 8,
   "metadata": {},
   "outputs": [],
   "source": [
    "#read csv\n",
    "data_spark_df = spark.read.format('csv').option('header','True').option('index','False').load('moons1.csv')\n",
    "# data_spark_df.show()\n",
    "# data_spark_df.count()"
   ]
  },
  {
   "cell_type": "code",
   "execution_count": 9,
   "metadata": {},
   "outputs": [
    {
     "data": {
      "text/plain": [
       "DataFrame[summary: string, 0: string, 1: string, label: string]"
      ]
     },
     "execution_count": 9,
     "metadata": {},
     "output_type": "execute_result"
    }
   ],
   "source": [
    "data_spark_df.describe()"
   ]
  },
  {
   "cell_type": "code",
   "execution_count": 10,
   "metadata": {},
   "outputs": [
    {
     "name": "stdout",
     "output_type": "stream",
     "text": [
      "root\n",
      " |-- 0: string (nullable = true)\n",
      " |-- 1: string (nullable = true)\n",
      " |-- label: string (nullable = true)\n",
      "\n"
     ]
    }
   ],
   "source": [
    "data_spark_df.printSchema()"
   ]
  },
  {
   "cell_type": "code",
   "execution_count": 11,
   "metadata": {},
   "outputs": [],
   "source": [
    "data_spark_df = data_spark_df.select(data_spark_df.columns[:-1])"
   ]
  },
  {
   "cell_type": "code",
   "execution_count": 12,
   "metadata": {},
   "outputs": [
    {
     "data": {
      "text/plain": [
       "5000000"
      ]
     },
     "execution_count": 12,
     "metadata": {},
     "output_type": "execute_result"
    }
   ],
   "source": [
    "points = data_spark_df.count()\n",
    "points"
   ]
  },
  {
   "cell_type": "code",
   "execution_count": 13,
   "metadata": {},
   "outputs": [],
   "source": [
    "#IR: The indexing ratio to be used for generating the maximum index\n",
    "IR = 0.2\n",
    "i = 10#The number of iteration i\n",
    "k = 2 #k: Number of clusters\n",
    "chunk = 200"
   ]
  },
  {
   "cell_type": "code",
   "execution_count": 14,
   "metadata": {},
   "outputs": [],
   "source": [
    "start = timer()\n",
    "# setup the spark data frame as a table\n",
    "\n",
    "# add train/test label and expand the data set by 3x (each num trees parameter)\n",
    "# data_spark_df.createOrReplaceTempView(\"data_spark_df\")\n",
    "df2 = data_spark_df.selectExpr(\n",
    "    \"*\",\n",
    "    \"int(rand() * \" + str(int(points / chunk)) + \") chunks\",\n",
    "#     \"case when rand() < 0.8 then 1 else 0 end training\"\n",
    ")\n",
    "results = df2.orderBy(F.col(\"chunks\"))\n",
    "# df2.show()"
   ]
  },
  {
   "cell_type": "code",
   "execution_count": null,
   "metadata": {},
   "outputs": [
    {
     "name": "stdout",
     "output_type": "stream",
     "text": [
      "root\n",
      " |-- 0: string (nullable = true)\n",
      " |-- 1: string (nullable = true)\n",
      " |-- chunks: integer (nullable = true)\n",
      "\n"
     ]
    }
   ],
   "source": [
    "df2.printSchema()"
   ]
  },
  {
   "cell_type": "code",
   "execution_count": null,
   "metadata": {},
   "outputs": [
    {
     "name": "stderr",
     "output_type": "stream",
     "text": [
      "/opt/spark/python/pyspark/sql/pandas/group_ops.py:76: UserWarning: It is preferred to use 'applyInPandas' over this API. This API will be deprecated in the future releases. See SPARK-28264 for more details.\n",
      "  \"more details.\", UserWarning)\n"
     ]
    }
   ],
   "source": [
    "start = timer()\n",
    "n = results.count()\n",
    "while(n > k):\n",
    "    structList = []\n",
    "    for i in range(k):\n",
    "        structList.append(StructField('P' + str(i),\n",
    "                ArrayType(StringType()),\n",
    "                True))\n",
    "    schema = StructType(structList)\n",
    "    # schema = StructType([StructField('label',\n",
    "    #             ArrayType(StringType()),\n",
    "    #             True)])  \n",
    "\n",
    "    @pandas_udf(schema, PandasUDFType.GROUPED_MAP)\n",
    "    def apply_NPIR(data):\n",
    "        data = pd.DataFrame(data.astype(float).values[:,:-1])\n",
    "        from NPIR import NPIR\n",
    "    #     label = [str(x) for x in NPIR(data.values,k,IR,i)]\n",
    "    #     label = (np.vstack(label).tolist())\n",
    "        label = NPIR(data.values,k,IR,i)\n",
    "        del NPIR\n",
    "        data['labels'] = label\n",
    "        leader = []\n",
    "        f = list(Cs(label))\n",
    "        f.sort()\n",
    "        for ii in f:\n",
    "            leader.append([round(np.mean(z), 10) for z in data[data['labels']==ii].values[:, :-1].T])\n",
    "        del data\n",
    "        cols = ['P'+str(i) for i in range(k)]\n",
    "        leader = pd.DataFrame(leader, columns=cols)\n",
    "        for col in cols:\n",
    "            leader[col] = leader[col].map(str)\n",
    "    #     return pd.DataFrame(label, columns=['label'])\n",
    "        return leader\n",
    "\n",
    "\n",
    "    # use the Pandas UDF\n",
    "    # results = df2.groupby('chunks').apply(runner)\n",
    "    results = results.groupby('chunks').apply(apply_NPIR)\n",
    "    \n",
    "    for c in results.columns:\n",
    "        results = results.withColumn(c, F.array_join(c, \"\"))\n",
    "    results = results.select(*(col(c).cast(\"float\").alias(c) for c in results.columns))\n",
    "    \n",
    "    n = results.count()\n",
    "    if n > k:\n",
    "        results = results.selectExpr(\n",
    "            \"*\",\n",
    "            \"int(rand() * \" + str(int(n / chunk)) + \") chunks\",\n",
    "        #     \"case when rand() < 0.8 then 1 else 0 end training\"\n",
    "        )\n",
    "        results = results.orderBy(F.col(\"chunks\"))\n",
    "# del data_spark\n",
    "# results.show()"
   ]
  },
  {
   "cell_type": "code",
   "execution_count": null,
   "metadata": {},
   "outputs": [],
   "source": [
    "# for c in results.columns:\n",
    "#     results = results.withColumn(c, F.array_join(c, \"\"))\n",
    "# results = results.select(*(col(c).cast(\"float\").alias(c) for c in results.columns))\n",
    "print(results.count())\n",
    "end = timer()\n",
    "print (\"Execution time HH:MM:SS:\", timedelta(seconds= end - start))"
   ]
  },
  {
   "cell_type": "code",
   "execution_count": null,
   "metadata": {},
   "outputs": [],
   "source": [
    "results.show()"
   ]
  },
  {
   "cell_type": "markdown",
   "metadata": {},
   "source": [
    "## topandas action: 400000/200 = 2000 => 1\n",
    "## NPIR calculation: 400000/200 = 2000 => 400000/200/4 = 500\n"
   ]
  },
  {
   "cell_type": "markdown",
   "metadata": {},
   "source": [
    "## 1e7/200 = 50000\n",
    "## 1e7/200/200/200"
   ]
  },
  {
   "cell_type": "markdown",
   "metadata": {},
   "source": [
    "## np.floor(np.log(1E10)/np.log(200)) + 1"
   ]
  },
  {
   "cell_type": "code",
   "execution_count": null,
   "metadata": {},
   "outputs": [],
   "source": [
    "# start = timer()\n",
    "# # leaders_spark_df = leaders_spark_df.select('1', '2')\n",
    "# # Build the model (cluster the data)\n",
    "# results = results.rdd.map(list)\n",
    "# clusters = KMeans.train(results, k, maxIterations=20, initializationMode=\"random\")\n",
    "# # del parsedData\n",
    "# end = timer()\n",
    "# print (\"Execution time HH:MM:SS:\",timedelta(seconds=end-start))"
   ]
  },
  {
   "cell_type": "code",
   "execution_count": null,
   "metadata": {},
   "outputs": [],
   "source": [
    "results = results.rdd.map(list)\n",
    "centers = results.collect()"
   ]
  },
  {
   "cell_type": "code",
   "execution_count": null,
   "metadata": {},
   "outputs": [],
   "source": [
    "# centers[0]"
   ]
  },
  {
   "cell_type": "code",
   "execution_count": null,
   "metadata": {},
   "outputs": [],
   "source": [
    "dataCol = data_spark_df.columns"
   ]
  },
  {
   "cell_type": "code",
   "execution_count": null,
   "metadata": {},
   "outputs": [],
   "source": [
    "start = timer()\n",
    "############ Updateing points clusters\n",
    "for i in range(k):\n",
    "    if i == 0:\n",
    "        centerOfiTH = centers[i]#for example, the entry against which you want distances\n",
    "        distance_udf = F.udf(lambda x: float(distance.euclidean([float(z) for z in x], centerOfiTH)),\\\n",
    "                             FloatType())\n",
    "        columns = [F.col(c) for c in dataCol]\n",
    "        data_cent = data_spark_df.withColumn('dis' + str(i) + 'th', distance_udf(F.array(columns)))\n",
    "        del data_spark_df\n",
    "        data_cent = data_cent.withColumn('mindist', col('dis' + str(i) + 'th'))\n",
    "        data_cent\n",
    "        data_cent = data_cent.withColumn('mindist1', least(col('dis' + str(i) + 'th'), col('mindist')))\n",
    "        data_cent = data_cent.drop('mindist')\n",
    "    #     .drop('dis' + str(i) + 'th')\n",
    "        data_cent = data_cent.withColumnRenamed('mindist1', 'mindist')\n",
    "    elif i > 0:\n",
    "        centerOfiTH = centers[i]#for example, the entry against which you want distances\n",
    "        distance_udf = F.udf(lambda x: float(distance.euclidean([float(z) for z in x], centerOfiTH)),\\\n",
    "                             FloatType())\n",
    "        columns = [F.col(c) for c in dataCol]\n",
    "        data_cent = data_cent.withColumn('dis' + str(i) + 'th', distance_udf(F.array(columns)))\n",
    "        data_cent = data_cent.withColumn('mindist1', least(col('dis' + str(i) + 'th'), col('mindist')))#4\n",
    "        data_cent = data_cent.drop('mindist')\n",
    "    #     .drop('dis' + str(i) + 'th')\n",
    "        data_cent = data_cent.withColumnRenamed('mindist1', 'mindist')\n",
    "data_cent = data_cent.drop('mindist')\n",
    "\n",
    "# data_cent.show()"
   ]
  },
  {
   "cell_type": "code",
   "execution_count": null,
   "metadata": {},
   "outputs": [],
   "source": [
    "def Min_COl( *row_list):\n",
    "    ind = row_list.index(min(*row_list))\n",
    "    return int(ind)\n",
    "find_min_val_name = udf(Min_COl, IntegerType())\n",
    "\n",
    "data_cent = data_cent.withColumn('defined_cluster', find_min_val_name(*data_cent.\\\n",
    "            columns[len(dataCol):len(dataCol) + 1 + k]))\n",
    "# data_cent.show()"
   ]
  },
  {
   "cell_type": "code",
   "execution_count": null,
   "metadata": {},
   "outputs": [],
   "source": [
    "# for c in range(k):\n",
    "#     data_cent = data_cent.drop('dis' + str(c) + 'th')\n",
    "# # data_cent.show()"
   ]
  },
  {
   "cell_type": "code",
   "execution_count": null,
   "metadata": {},
   "outputs": [],
   "source": [
    "d = data_cent.select('defined_cluster').toPandas()\n",
    "\n",
    "end = timer()\n",
    "print (\"Execution time HH:MM:SS:\",timedelta(seconds=end-start))"
   ]
  },
  {
   "cell_type": "code",
   "execution_count": null,
   "metadata": {},
   "outputs": [],
   "source": [
    "data = pd.read_csv('moons1.csv')\n",
    "data.head()"
   ]
  },
  {
   "cell_type": "code",
   "execution_count": null,
   "metadata": {},
   "outputs": [],
   "source": [
    "# data = data[['0','1','label']]"
   ]
  },
  {
   "cell_type": "code",
   "execution_count": null,
   "metadata": {},
   "outputs": [],
   "source": [
    "# data['new'] = d['defined_cluster'].astype('int8')\n",
    "# data.head()"
   ]
  },
  {
   "cell_type": "code",
   "execution_count": null,
   "metadata": {},
   "outputs": [],
   "source": [
    "y = data['label']\n",
    "labelsPred = d['defined_cluster'].astype('int8')\n",
    "x = data[['0','1']].values\n",
    "x.shape"
   ]
  },
  {
   "cell_type": "code",
   "execution_count": null,
   "metadata": {},
   "outputs": [],
   "source": [
    "del data\n",
    "del d"
   ]
  },
  {
   "cell_type": "code",
   "execution_count": null,
   "metadata": {},
   "outputs": [],
   "source": [
    "#printing results\n",
    "#print('labels:')\n",
    "# print(labelsPred)\n",
    "\n",
    "# tEnd = datetime.datetime.now()\n",
    "# print('Time: ' + str(tEnd - tStart))\n",
    "print('Measures:')\n",
    "print('HS: ' + str(metrics.homogeneity_score(y,labelsPred)))\n",
    "print('CS: ' + str(metrics.completeness_score(y,labelsPred)))\n",
    "print('VM: ' + str(metrics.v_measure_score(y,labelsPred)))\n",
    "print('AMI: ' + str(metrics.adjusted_mutual_info_score(y,labelsPred)))\n",
    "print('ARI: ' + str(metrics.adjusted_rand_score(y,labelsPred)))"
   ]
  },
  {
   "cell_type": "code",
   "execution_count": 171,
   "metadata": {},
   "outputs": [
    {
     "data": {
      "image/png": "[encoded data removed]",
      "text/plain": [
       "<Figure size 432x288 with 1 Axes>"
      ]
     },
     "metadata": {},
     "output_type": "display_data"
    }
   ],
   "source": [
    "import matplotlib.pyplot as plt\n",
    "from itertools import cycle, islice \n",
    "\n",
    "fig = plt.figure()      \n",
    "colors = np.array(list(islice(cycle(['#377eb8', '#ff7f00', '#4daf4a','#f781bf', '#a65628', '#984ea3',\n",
    "                                    '#999999', '#e41a1c', '#dede00']),int(k))))\n",
    "plt.scatter(x[:, 0], x[:, 1], s=10, color=colors[labelsPred.tolist()])\n",
    "plt.show()\n",
    "# plt.clf()"
   ]
  },
  {
   "cell_type": "code",
   "execution_count": null,
   "metadata": {},
   "outputs": [],
   "source": []
  }
 ],
 "metadata": {
  "kernelspec": {
   "display_name": "Python 3",
   "language": "python",
   "name": "python3"
  },
  "language_info": {
   "codemirror_mode": {
    "name": "ipython",
    "version": 3
   },
   "file_extension": ".py",
   "mimetype": "text/x-python",
   "name": "python",
   "nbconvert_exporter": "python",
   "pygments_lexer": "ipython3",
   "version": "3.6.9"
  }
 },
 "nbformat": 4,
 "nbformat_minor": 4
}

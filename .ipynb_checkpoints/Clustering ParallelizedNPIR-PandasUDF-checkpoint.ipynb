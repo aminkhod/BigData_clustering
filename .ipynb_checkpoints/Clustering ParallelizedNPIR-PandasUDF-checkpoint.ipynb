{
 "cells": [
  {
   "cell_type": "code",
   "execution_count": 54,
   "metadata": {},
   "outputs": [],
   "source": [
    "import numpy as np\n",
    "import pandas as pd\n",
    "\n",
    "\n",
    "from NPIR import NPIR\n",
    "\n",
    "from sklearn.utils import shuffle\n",
    "from sklearn.datasets import make_blobs, make_moons\n",
    "from sklearn import metrics\n",
    "\n",
    "import matplotlib.pyplot as plt\n",
    "\n",
    "# ### multiprocessing\n",
    "# from multiprocessing.pool import Pool\n",
    "# import multiprocessing\n",
    "\n",
    "\n",
    "import datetime\n",
    "# import warnings\n",
    "from collections import Counter as Cs\n",
    "from timeit import default_timer as timer\n",
    "from datetime import timedelta\n",
    "\n",
    "\n",
    "import findspark\n",
    "findspark.init()\n",
    "\n",
    "########\n",
    "from pyspark.mllib.clustering import KMeans\n",
    "########\n",
    "from operator import *\n",
    "\n",
    "from pyspark import SparkContext\n",
    "# from pyspark import StorageLevel\n",
    "from pyspark.sql.types import IntegerType, FloatType, BooleanType, StringType, StructType,\\\n",
    "                StructField,ArrayType, DataType\n",
    "from pyspark.sql.types import *\n",
    "\n",
    "from pyspark.sql.functions import udf, log, rand, monotonically_increasing_id, col, broadcast,\\\n",
    "                greatest, desc, asc, row_number, avg, mean, least, struct, lit, sequence, sum, \\\n",
    "                monotonically_increasing_id, pandas_udf, PandasUDFType\n",
    "import pyspark.sql.functions as F\n",
    "\n",
    "from functools import reduce\n",
    "from pyspark.sql import SparkSession, SQLContext, Window, Row, DataFrame\n",
    "from pyspark import SparkConf\n",
    "from scipy.spatial import distance\n",
    "from pyspark.sql.window import Window"
   ]
  },
  {
   "cell_type": "code",
   "execution_count": 2,
   "metadata": {},
   "outputs": [],
   "source": [
    "# config(\"spark.sql.broadcastTimeout\", \"300000s\").\\\n",
    "# config(\"spark.network.timeout\",\"300000s\").config(\"spark.executor.heartbeatInterval\",\"12000000ms\").\\\n",
    "spark = SparkSession.builder.master(\"local[*]\").\\\n",
    "config(\"spark.storage.blockManagerSlaveTimeoutMs\",\"12000001ms\").config(\"spark.driver.maxResultSize\",\"24g\").\\\n",
    "config(\"spark.default.parallelism\", \"200\").config(\"spark.memory.offHeap.enabled\",\"true\").\\\n",
    "config(\"spark.memory.offHeap.size\", \"24g\").config(\"spark.executor.memory\", \"24g\").\\\n",
    "config(\"spark.driver.memory\", \"24g\")\\\n",
    ".appName(\"NPIR_Parallel\").getOrCreate()\n",
    "\n",
    "\n",
    "# spark.conf.set(\"spark.sql.debug.maxToStringFields\", 1000)\n",
    "# spark.conf.set('spark.jars.packages','com.databricks:spark-cav_2.11')\n",
    "# spark.conf.set(\"spark.sql.parquet.compression.codec\",\"gzip\")\n",
    "spark.conf.set(\"spark.sql.execution.arrow.pyspark.enabled\", \"True\")\n"
   ]
  },
  {
   "cell_type": "code",
   "execution_count": 3,
   "metadata": {},
   "outputs": [],
   "source": [
    "sc = spark.sparkContext\n",
    "sqlContext = SQLContext(sc)"
   ]
  },
  {
   "cell_type": "code",
   "execution_count": 4,
   "metadata": {},
   "outputs": [],
   "source": [
    "# x1,y1 = make_blobs(n_samples=200, centers=3, n_features=3,\n",
    "#                 random_state=1)\n",
    "# data = pd.DataFrame(x1)\n",
    "# data['label'] = y1\n",
    "# # data.head()\n",
    "\n",
    "# data = shuffle(data)\n",
    "# data.head()\n",
    "\n",
    "# data.to_csv('blobs3.csv', index=False)"
   ]
  },
  {
   "cell_type": "code",
   "execution_count": 57,
   "metadata": {},
   "outputs": [],
   "source": [
    "# make_moons\n",
    "x1,y1 = make_moons(n_samples=5000, random_state=1)\n",
    "data = pd.DataFrame(x1)\n",
    "data['label'] = y1\n",
    "# data.head()\n",
    "\n",
    "data = shuffle(data)\n",
    "data.head()\n",
    "\n",
    "data.to_csv('moons.csv', index=False)"
   ]
  },
  {
   "cell_type": "code",
   "execution_count": 58,
   "metadata": {},
   "outputs": [
    {
     "data": {
      "text/html": [
       "<div>\n",
       "<style scoped>\n",
       "    .dataframe tbody tr th:only-of-type {\n",
       "        vertical-align: middle;\n",
       "    }\n",
       "\n",
       "    .dataframe tbody tr th {\n",
       "        vertical-align: top;\n",
       "    }\n",
       "\n",
       "    .dataframe thead th {\n",
       "        text-align: right;\n",
       "    }\n",
       "</style>\n",
       "<table border=\"1\" class=\"dataframe\">\n",
       "  <thead>\n",
       "    <tr style=\"text-align: right;\">\n",
       "      <th></th>\n",
       "      <th>0</th>\n",
       "      <th>1</th>\n",
       "      <th>label</th>\n",
       "    </tr>\n",
       "  </thead>\n",
       "  <tbody>\n",
       "    <tr>\n",
       "      <th>4408</th>\n",
       "      <td>-0.868217</td>\n",
       "      <td>0.496185</td>\n",
       "      <td>0</td>\n",
       "    </tr>\n",
       "    <tr>\n",
       "      <th>1373</th>\n",
       "      <td>0.968245</td>\n",
       "      <td>0.250005</td>\n",
       "      <td>0</td>\n",
       "    </tr>\n",
       "    <tr>\n",
       "      <th>3914</th>\n",
       "      <td>0.989386</td>\n",
       "      <td>0.145312</td>\n",
       "      <td>0</td>\n",
       "    </tr>\n",
       "    <tr>\n",
       "      <th>3561</th>\n",
       "      <td>0.975622</td>\n",
       "      <td>0.219456</td>\n",
       "      <td>0</td>\n",
       "    </tr>\n",
       "    <tr>\n",
       "      <th>19</th>\n",
       "      <td>0.578287</td>\n",
       "      <td>0.815834</td>\n",
       "      <td>0</td>\n",
       "    </tr>\n",
       "  </tbody>\n",
       "</table>\n",
       "</div>"
      ],
      "text/plain": [
       "             0         1  label\n",
       "4408 -0.868217  0.496185      0\n",
       "1373  0.968245  0.250005      0\n",
       "3914  0.989386  0.145312      0\n",
       "3561  0.975622  0.219456      0\n",
       "19    0.578287  0.815834      0"
      ]
     },
     "execution_count": 58,
     "metadata": {},
     "output_type": "execute_result"
    }
   ],
   "source": [
    "data = shuffle(data)\n",
    "data.head()"
   ]
  },
  {
   "cell_type": "code",
   "execution_count": 59,
   "metadata": {},
   "outputs": [],
   "source": [
    "data.to_csv('moons.csv', index=False)"
   ]
  },
  {
   "cell_type": "code",
   "execution_count": 60,
   "metadata": {},
   "outputs": [],
   "source": [
    "#read csv\n",
    "data_spark_df = spark.read.format('csv').option('header','True').option('index','False').load('moons.csv')\n",
    "# data_spark_df.show()\n",
    "# data_spark_df.count()"
   ]
  },
  {
   "cell_type": "code",
   "execution_count": 61,
   "metadata": {},
   "outputs": [
    {
     "data": {
      "text/plain": [
       "DataFrame[summary: string, 0: string, 1: string, label: string]"
      ]
     },
     "execution_count": 61,
     "metadata": {},
     "output_type": "execute_result"
    }
   ],
   "source": [
    "data_spark_df.describe()"
   ]
  },
  {
   "cell_type": "code",
   "execution_count": 62,
   "metadata": {},
   "outputs": [
    {
     "name": "stdout",
     "output_type": "stream",
     "text": [
      "root\n",
      " |-- 0: string (nullable = true)\n",
      " |-- 1: string (nullable = true)\n",
      " |-- label: string (nullable = true)\n",
      "\n"
     ]
    }
   ],
   "source": [
    "data_spark_df.printSchema()"
   ]
  },
  {
   "cell_type": "code",
   "execution_count": 63,
   "metadata": {},
   "outputs": [],
   "source": [
    "data_spark_df = data_spark_df.select(data_spark_df.columns[:-1])"
   ]
  },
  {
   "cell_type": "code",
   "execution_count": 11,
   "metadata": {},
   "outputs": [
    {
     "data": {
      "text/plain": [
       "5000"
      ]
     },
     "execution_count": 11,
     "metadata": {},
     "output_type": "execute_result"
    }
   ],
   "source": [
    "points = data_spark_df.count()\n",
    "points"
   ]
  },
  {
   "cell_type": "code",
   "execution_count": 64,
   "metadata": {},
   "outputs": [],
   "source": [
    "#IR: The indexing ratio to be used for generating the maximum index\n",
    "# global IR, i, k\n",
    "IR = 0.2\n",
    "i = 10#The number of iteration i\n",
    "k = 2 #k: Number of clusters\n",
    "# count = Cs()\n",
    "chunk = 200"
   ]
  },
  {
   "cell_type": "code",
   "execution_count": 65,
   "metadata": {},
   "outputs": [],
   "source": [
    "# data_spark = data_spark_df.withColumn('index_column_name', row_number().\\\n",
    "#                                           over(Window.orderBy(monotonically_increasing_id())) - 1)\n",
    "# del data_spark_df\n",
    "# # data_spark.show()"
   ]
  },
  {
   "cell_type": "code",
   "execution_count": 66,
   "metadata": {},
   "outputs": [],
   "source": [
    "# def unionAll(*dfs):\n",
    "#     return reduce(DataFrame.unionAll, dfs)"
   ]
  },
  {
   "cell_type": "code",
   "execution_count": 67,
   "metadata": {},
   "outputs": [],
   "source": [
    "# labelsheader = ('chunkLabel', 'label')\n",
    "# labelsheader"
   ]
  },
  {
   "cell_type": "code",
   "execution_count": 68,
   "metadata": {},
   "outputs": [],
   "source": [
    "start = timer()\n",
    "# setup the spark data frame as a table\n",
    "\n",
    "# add train/test label and expand the data set by 3x (each num trees parameter)\n",
    "# data_spark_df.createOrReplaceTempView(\"data_spark_df\")\n",
    "df2 = data_spark_df.selectExpr(\n",
    "    \"*\",\n",
    "    \"int(rand() * \" + str(int(points / chunk)) + \") chunks\",\n",
    "#     \"case when rand() < 0.8 then 1 else 0 end training\"\n",
    ")\n",
    "df2 = df2.orderBy(F.col(\"chunks\"))\n",
    "# df2.show()"
   ]
  },
  {
   "cell_type": "code",
   "execution_count": 69,
   "metadata": {},
   "outputs": [
    {
     "name": "stdout",
     "output_type": "stream",
     "text": [
      "root\n",
      " |-- 0: string (nullable = true)\n",
      " |-- 1: string (nullable = true)\n",
      " |-- chunks: integer (nullable = true)\n",
      "\n"
     ]
    }
   ],
   "source": [
    "df2.printSchema()"
   ]
  },
  {
   "cell_type": "code",
   "execution_count": 70,
   "metadata": {},
   "outputs": [],
   "source": [
    "# import numpy as np\n",
    "# data = pd.DataFrame(data.astype(float).values[:,:-1])\n",
    "# from NPIR import NPIR\n",
    "# #     label = [str(x) for x in NPIR(data.values,k,IR,i)]\n",
    "# #     label = (np.vstack(label).tolist())\n",
    "# label = NPIR(data.values,k,IR,i)\n",
    "# del NPIR\n",
    "# data['labels'] = label\n",
    "# leader = []\n",
    "# f = list(Cs(label))\n",
    "# f.sort()\n",
    "# for ii in f:\n",
    "#     leader.append([np.mean(z) for z in data[data['labels']==ii].values[:, :-1].T])\n",
    "# # del data\n",
    "# cols = ['P'+str(i) for i in range(k)]\n",
    "# leader = pd.DataFrame(leader, columns=cols)\n",
    "# for c in cols:\n",
    "#     leader[c] = leader[c].map(str)\n",
    "# leader['P0'][0]"
   ]
  },
  {
   "cell_type": "code",
   "execution_count": 71,
   "metadata": {},
   "outputs": [
    {
     "name": "stderr",
     "output_type": "stream",
     "text": [
      "/opt/spark/python/pyspark/sql/pandas/group_ops.py:76: UserWarning: It is preferred to use 'applyInPandas' over this API. This API will be deprecated in the future releases. See SPARK-28264 for more details.\n",
      "  \"more details.\", UserWarning)\n"
     ]
    },
    {
     "name": "stdout",
     "output_type": "stream",
     "text": [
      "+--------------------+--------------------+\n",
      "|                  P0|                  P1|\n",
      "+--------------------+--------------------+\n",
      "|[0, ., 4, 4, 5, 4...|[0, ., 2, 5, 6, 2...|\n",
      "|[1, ., 9, 9, 9, 3...|[0, ., 4, 6, 9, 8...|\n",
      "|[1, ., 2, 6, 1, 8...|[-, 0, ., 0, 0, 5...|\n",
      "|[-, 0, ., 1, 5, 1...|[0, ., 5, 3, 0, 1...|\n",
      "|[0, ., 9, 7, 8, 0...|[-, 0, ., 0, 6, 4...|\n",
      "|[-, 0, ., 2, 6, 0...|[0, ., 6, 8, 4, 1...|\n",
      "|[1, ., 9, 8, 6, 2...|[0, ., 3, 5, 3, 7...|\n",
      "|[0, ., 4, 1, 6, 1...|[0, ., 2, 7, 8, 6...|\n",
      "|[0, ., 9, 1, 4, 1...|[-, 0, ., 1, 0, 2...|\n",
      "|[-, 0, ., 0, 4, 3...|[0, ., 6, 0, 1, 3...|\n",
      "|[-, 0, ., 1, 5, 9...|[0, ., 6, 0, 1, 8...|\n",
      "|[1, ., 1, 3, 2, 0...|[-, 0, ., 1, 4, 1...|\n",
      "|[1, ., 4, 0, 3, 2...|[-, 0, ., 2, 4, 2...|\n",
      "|[0, ., 1, 5, 6, 7...|[0, ., 4, 6, 7, 8...|\n",
      "|[-, 0, ., 3, 8, 1...|[0, ., 6, 4, 9, 0...|\n",
      "|[1, ., 1, 1, 4, 4...|[-, 0, ., 0, 0, 0...|\n",
      "|[1, ., 8, 9, 8, 6...|[0, ., 1, 2, 2, 1...|\n",
      "|[0, ., 2, 4, 9, 3...|[0, ., 2, 9, 0, 8...|\n",
      "|[0, ., 9, 3, 0, 9...|[-, 0, ., 0, 2, 2...|\n",
      "|[-, 0, ., 5, 0, 1...|[0, ., 7, 0, 4, 7...|\n",
      "+--------------------+--------------------+\n",
      "only showing top 20 rows\n",
      "\n",
      "Execution time HH:MM:SS: 0:00:08.214134\n"
     ]
    }
   ],
   "source": [
    "start = timer()\n",
    "structList = []\n",
    "for i in range(k):\n",
    "    structList.append(StructField('P' + str(i),\n",
    "            ArrayType(StringType()),\n",
    "            True))\n",
    "schema = StructType(structList)\n",
    "# schema = StructType([StructField('label',\n",
    "#             ArrayType(StringType()),\n",
    "#             True)])  \n",
    "\n",
    "@pandas_udf(schema, PandasUDFType.GROUPED_MAP)\n",
    "def apply_NPIR(data):\n",
    "    data = pd.DataFrame(data.astype(float).values[:,:-1])\n",
    "    from NPIR import NPIR\n",
    "#     label = [str(x) for x in NPIR(data.values,k,IR,i)]\n",
    "#     label = (np.vstack(label).tolist())\n",
    "    label = NPIR(data.values,k,IR,i)\n",
    "    del NPIR\n",
    "    data['labels'] = label\n",
    "    leader = []\n",
    "    f = list(Cs(label))\n",
    "    f.sort()\n",
    "    for ii in f:\n",
    "        leader.append([round(np.mean(z), 10) for z in data[data['labels']==ii].values[:, :-1].T])\n",
    "    del data\n",
    "    cols = ['P'+str(i) for i in range(k)]\n",
    "    leader = pd.DataFrame(leader, columns=cols)\n",
    "    for col in cols:\n",
    "        leader[col] = leader[col].map(str)\n",
    "#     return pd.DataFrame(label, columns=['label'])\n",
    "    return leader\n",
    "\n",
    "\n",
    "# use the Pandas UDF\n",
    "# results = df2.groupby('chunks').apply(runner)\n",
    "results = df2.groupby('chunks').apply(apply_NPIR)\n",
    "\n",
    "# del data_spark\n",
    "results.show()\n",
    "\n",
    "end = timer()\n",
    "print (\"Execution time HH:MM:SS:\", timedelta(seconds= end - start))"
   ]
  },
  {
   "cell_type": "code",
   "execution_count": 72,
   "metadata": {},
   "outputs": [
    {
     "name": "stdout",
     "output_type": "stream",
     "text": [
      "+-----------+-----------+\n",
      "|         P0|         P1|\n",
      "+-----------+-----------+\n",
      "|  1.8974848|0.113625236|\n",
      "| 0.27334735|  0.2796784|\n",
      "|-0.53884614| 0.70874137|\n",
      "|  0.8761962| 0.12820807|\n",
      "| 0.34136698| 0.23588589|\n",
      "|  1.9735318| 0.30223674|\n",
      "|-0.48475277|  0.7213262|\n",
      "| 0.98557895|  0.0747451|\n",
      "| 0.46344116|  0.2550376|\n",
      "|-0.99744576| 0.06592629|\n",
      "|   0.694062| 0.20082036|\n",
      "|   -0.89916| 0.38300824|\n",
      "|   0.495834| 0.21345223|\n",
      "|  1.9585819| 0.23979737|\n",
      "| 0.46677428|  0.2894967|\n",
      "| -0.9997942|0.019484123|\n",
      "|  0.9243589|0.079064995|\n",
      "| -0.5627767|   0.663488|\n",
      "|-0.97985363| 0.17409284|\n",
      "|  0.5470064| 0.21887465|\n",
      "+-----------+-----------+\n",
      "only showing top 20 rows\n",
      "\n"
     ]
    }
   ],
   "source": [
    "for c in results.columns:\n",
    "    results = results.withColumn(c, F.array_join(c, \"\"))\n",
    "results = results.select(*(col(c).cast(\"float\").alias(c) for c in results.columns))\n",
    "results.show()"
   ]
  },
  {
   "cell_type": "code",
   "execution_count": 73,
   "metadata": {},
   "outputs": [
    {
     "data": {
      "text/plain": [
       "DataFrame[P0: float, P1: float]"
      ]
     },
     "execution_count": 73,
     "metadata": {},
     "output_type": "execute_result"
    }
   ],
   "source": [
    "results"
   ]
  },
  {
   "cell_type": "code",
   "execution_count": 74,
   "metadata": {},
   "outputs": [],
   "source": [
    "# leaderheadr = ['chunkLabel', 'old label']\n",
    "# # leaderheadr = []\n",
    "# leaderheadr.extend([str(x) for x in range(1, len(data_spark.columns))])\n",
    "# leaderheadr = tuple(leaderheadr)\n",
    "# # leaderheadr"
   ]
  },
  {
   "cell_type": "code",
   "execution_count": 75,
   "metadata": {},
   "outputs": [],
   "source": [
    "# spark_cluster_centroid = sqlContext.createDataFrame(([c.tolist() for c in clusters.centers]),)\n",
    "# spark_cluster_centroid = spark_cluster_centroid.withColumn('defined_cluster', row_number().\\\n",
    "# over(Window.orderBy(monotonically_increasing_id())) - 1)"
   ]
  },
  {
   "cell_type": "markdown",
   "metadata": {},
   "source": [
    "## topandas action: 400000/200 = 2000 => 1\n",
    "## NPIR calculation: 400000/200 = 2000 => 400000/200/4 = 500\n",
    "## "
   ]
  },
  {
   "cell_type": "code",
   "execution_count": 76,
   "metadata": {},
   "outputs": [],
   "source": [
    "# start = timer()\n",
    "# # labels = sqlContext.createDataFrame([np.full(len(labelsheader), np.nan).tolist()],labelsheader)\n",
    "# # labels = labels.na.drop()\n",
    "\n",
    "# leaders = sqlContext.createDataFrame([np.full(len(leaderheadr), np.nan).tolist()],leaderheadr)\n",
    "# leaders = leaders.na.drop()\n",
    "\n",
    "# ii = 0\n",
    "# for z in range(0, points, chunk):\n",
    "#     j = z + chunk\n",
    "#     data = data_spark.where(col(\"index_column_name\").between(z, j-1)).toPandas()\n",
    "#     data.drop(\"index_column_name\",axis=1,inplace=True)\n",
    "#     data = data.astype(float)\n",
    "#     from NPIR import NPIR\n",
    "#     label = NPIR(data.values,k,IR,i)\n",
    "    \n",
    "#     del NPIR\n",
    "#     data['labels'] = label\n",
    "\n",
    "# #     # Adding to pyspard label\n",
    "# #     chunklabel = np.full(len(label), ii).tolist()\n",
    "# #     labelDF = [(x, y) for x, y in zip(chunklabel, label)]\n",
    "# #     labelsDF = sqlContext.createDataFrame(labelDF,labelsheader)\n",
    "# #     labels = unionAll(labels, labelsDF)\n",
    "\n",
    "#     leader = []\n",
    "#     f = list(Cs(label))\n",
    "#     f.sort()\n",
    "#     for i in f:\n",
    "#         leader.append([round(np.mean(z), 4) for z in data[data['labels']==i].values[:, :-1].T])\n",
    "#     del data\n",
    "    \n",
    "#     # Adding to pyspark leaders\n",
    "#     for x in range(len(leader)):\n",
    "#         x1 = [ii, x]\n",
    "#         x1.extend(leader[x])\n",
    "#         leader[x] = x1\n",
    "#     leaderDF = sqlContext.createDataFrame(leader,leaderheadr)\n",
    "#     leaders = unionAll(leaders, leaderDF)\n",
    "#     ii += 1\n",
    "# del data_spark\n",
    "# end = timer()\n",
    "# print (\"Execution time HH:MM:SS:\", timedelta(seconds= end - start))"
   ]
  },
  {
   "cell_type": "code",
   "execution_count": 77,
   "metadata": {},
   "outputs": [],
   "source": [
    "# data_spark_df = spark.read.format('csv').option('header','True').option('index','False').load('blobs3.csv')"
   ]
  },
  {
   "cell_type": "code",
   "execution_count": 78,
   "metadata": {},
   "outputs": [],
   "source": [
    "# def Euclidean_distance(a,b,c,d):\n",
    "#     a = float(a)\n",
    "#     b = float(b)\n",
    "#     c = float(c)\n",
    "#     d = float(d)\n",
    "#     array1 = np.array([a,b])\n",
    "#     array2 = np.array([c,d])\n",
    "#     dist = np.linalg.norm(array1-array2)\n",
    "#     dist = dist.item()\n",
    "#     return dist\n",
    "\n",
    "# Euclidean_distance_spark = udf(lambda x,y,z,t: Euclidean_distance(x,y,z,t), FloatType())\n",
    "# sqlContext.sql(\"SET spark.sql.autoBroadcastJoinThreshold = -1\")"
   ]
  },
  {
   "cell_type": "code",
   "execution_count": 79,
   "metadata": {},
   "outputs": [],
   "source": [
    "# start = timer()\n",
    "# # parsedData = leaders.select(['1', '2']).rdd.map(list)\n",
    "# leaders.toPandas().to_csv('leaders.csv')\n",
    "# del leaders\n",
    "# leaders_spark_df = spark.read.format('csv').option('header','True').option('index','False').\\\n",
    "# load('leaders.csv')\n",
    "# parsedData = leaders_spark_df.select(leaders_spark_df.columns[2:]).rdd.map(list)\n",
    "# del leaders_spark_df\n",
    "\n",
    "# end = timer()\n",
    "# print (\"Execution time HH:MM:SS:\",timedelta(seconds=end-start))"
   ]
  },
  {
   "cell_type": "code",
   "execution_count": 80,
   "metadata": {},
   "outputs": [
    {
     "name": "stdout",
     "output_type": "stream",
     "text": [
      "Execution time HH:MM:SS: 0:00:14.974799\n"
     ]
    }
   ],
   "source": [
    "start = timer()\n",
    "# leaders_spark_df = leaders_spark_df.select('1', '2')\n",
    "# Build the model (cluster the data)\n",
    "results = results.rdd.map(list)\n",
    "clusters = KMeans.train(results, k, maxIterations=20, initializationMode=\"random\")\n",
    "# del parsedData\n",
    "end = timer()\n",
    "print (\"Execution time HH:MM:SS:\",timedelta(seconds=end-start))"
   ]
  },
  {
   "cell_type": "code",
   "execution_count": 81,
   "metadata": {},
   "outputs": [],
   "source": [
    "dataCol = data_spark_df.columns"
   ]
  },
  {
   "cell_type": "code",
   "execution_count": 82,
   "metadata": {},
   "outputs": [],
   "source": [
    "start = timer()\n",
    "############ Updateing points clusters\n",
    "for i in range(k):\n",
    "    if i == 0:\n",
    "        centerOfiTH = clusters.centers[i].tolist()#for example, the entry against which you want distances\n",
    "        distance_udf = F.udf(lambda x: float(distance.euclidean([float(z) for z in x], centerOfiTH)),\\\n",
    "                             FloatType())\n",
    "        columns = [F.col(c) for c in dataCol]\n",
    "        data_cent = data_spark_df.withColumn('dis' + str(i) + 'th', distance_udf(F.array(columns)))\n",
    "        del data_spark_df\n",
    "        data_cent = data_cent.withColumn('mindist', col('dis' + str(i) + 'th'))\n",
    "        data_cent\n",
    "        data_cent = data_cent.withColumn('mindist1', least(col('dis' + str(i) + 'th'), col('mindist')))\n",
    "        data_cent = data_cent.drop('mindist')\n",
    "    #     .drop('dis' + str(i) + 'th')\n",
    "        data_cent = data_cent.withColumnRenamed('mindist1', 'mindist')\n",
    "    elif i > 0:\n",
    "        centerOfiTH = clusters.centers[i].tolist()#for example, the entry against which you want distances\n",
    "        distance_udf = F.udf(lambda x: float(distance.euclidean([float(z) for z in x], centerOfiTH)),\\\n",
    "                             FloatType())\n",
    "        columns = [F.col(c) for c in dataCol]\n",
    "        data_cent = data_cent.withColumn('dis' + str(i) + 'th', distance_udf(F.array(columns)))\n",
    "        data_cent = data_cent.withColumn('mindist1', least(col('dis' + str(i) + 'th'), col('mindist')))#4\n",
    "        data_cent = data_cent.drop('mindist')\n",
    "    #     .drop('dis' + str(i) + 'th')\n",
    "        data_cent = data_cent.withColumnRenamed('mindist1', 'mindist')\n",
    "data_cent = data_cent.drop('mindist')\n",
    "\n",
    "# data_cent.show()"
   ]
  },
  {
   "cell_type": "code",
   "execution_count": 83,
   "metadata": {},
   "outputs": [],
   "source": [
    "def Min_COl( *row_list):\n",
    "    ind = row_list.index(min(*row_list))\n",
    "    return int(ind)\n",
    "find_min_val_name = udf(Min_COl, IntegerType())\n",
    "\n",
    "data_cent = data_cent.withColumn('defined_cluster', find_min_val_name(*data_cent.\\\n",
    "            columns[len(dataCol):len(dataCol) + 1 + k]))\n",
    "# data_cent.show()"
   ]
  },
  {
   "cell_type": "code",
   "execution_count": 84,
   "metadata": {},
   "outputs": [],
   "source": [
    "# for c in range(k):\n",
    "#     data_cent = data_cent.drop('dis' + str(c) + 'th')\n",
    "# # data_cent.show()"
   ]
  },
  {
   "cell_type": "code",
   "execution_count": 85,
   "metadata": {},
   "outputs": [
    {
     "name": "stdout",
     "output_type": "stream",
     "text": [
      "Execution time HH:MM:SS: 0:00:00.755760\n"
     ]
    }
   ],
   "source": [
    "d = data_cent.select('defined_cluster').toPandas()\n",
    "\n",
    "end = timer()\n",
    "print (\"Execution time HH:MM:SS:\",timedelta(seconds=end-start))"
   ]
  },
  {
   "cell_type": "code",
   "execution_count": 86,
   "metadata": {},
   "outputs": [
    {
     "data": {
      "text/html": [
       "<div>\n",
       "<style scoped>\n",
       "    .dataframe tbody tr th:only-of-type {\n",
       "        vertical-align: middle;\n",
       "    }\n",
       "\n",
       "    .dataframe tbody tr th {\n",
       "        vertical-align: top;\n",
       "    }\n",
       "\n",
       "    .dataframe thead th {\n",
       "        text-align: right;\n",
       "    }\n",
       "</style>\n",
       "<table border=\"1\" class=\"dataframe\">\n",
       "  <thead>\n",
       "    <tr style=\"text-align: right;\">\n",
       "      <th></th>\n",
       "      <th>0</th>\n",
       "      <th>1</th>\n",
       "      <th>2</th>\n",
       "      <th>label</th>\n",
       "    </tr>\n",
       "  </thead>\n",
       "  <tbody>\n",
       "    <tr>\n",
       "      <th>0</th>\n",
       "      <td>-0.913115</td>\n",
       "      <td>4.423843</td>\n",
       "      <td>-10.077897</td>\n",
       "      <td>0</td>\n",
       "    </tr>\n",
       "    <tr>\n",
       "      <th>1</th>\n",
       "      <td>-5.869876</td>\n",
       "      <td>-4.296674</td>\n",
       "      <td>-1.416502</td>\n",
       "      <td>2</td>\n",
       "    </tr>\n",
       "    <tr>\n",
       "      <th>2</th>\n",
       "      <td>-0.672344</td>\n",
       "      <td>6.132321</td>\n",
       "      <td>-8.930978</td>\n",
       "      <td>0</td>\n",
       "    </tr>\n",
       "    <tr>\n",
       "      <th>3</th>\n",
       "      <td>-1.638549</td>\n",
       "      <td>4.140153</td>\n",
       "      <td>-10.369528</td>\n",
       "      <td>0</td>\n",
       "    </tr>\n",
       "    <tr>\n",
       "      <th>4</th>\n",
       "      <td>-3.480741</td>\n",
       "      <td>-5.848709</td>\n",
       "      <td>-6.938280</td>\n",
       "      <td>1</td>\n",
       "    </tr>\n",
       "  </tbody>\n",
       "</table>\n",
       "</div>"
      ],
      "text/plain": [
       "          0         1          2  label\n",
       "0 -0.913115  4.423843 -10.077897      0\n",
       "1 -5.869876 -4.296674  -1.416502      2\n",
       "2 -0.672344  6.132321  -8.930978      0\n",
       "3 -1.638549  4.140153 -10.369528      0\n",
       "4 -3.480741 -5.848709  -6.938280      1"
      ]
     },
     "execution_count": 86,
     "metadata": {},
     "output_type": "execute_result"
    }
   ],
   "source": [
    "data = pd.read_csv('moons.csv')\n",
    "data.head()"
   ]
  },
  {
   "cell_type": "code",
   "execution_count": 87,
   "metadata": {},
   "outputs": [],
   "source": [
    "# data = data[['0','1','label']]"
   ]
  },
  {
   "cell_type": "code",
   "execution_count": 88,
   "metadata": {},
   "outputs": [],
   "source": [
    "# data['new'] = d['defined_cluster'].astype('int8')\n",
    "# data.head()"
   ]
  },
  {
   "cell_type": "code",
   "execution_count": 89,
   "metadata": {},
   "outputs": [
    {
     "data": {
      "text/plain": [
       "(5000, 2)"
      ]
     },
     "execution_count": 89,
     "metadata": {},
     "output_type": "execute_result"
    }
   ],
   "source": [
    "y = data['label']\n",
    "labelsPred = d['defined_cluster'].astype('int8')\n",
    "x = data[['0','1']].values\n",
    "x.shape"
   ]
  },
  {
   "cell_type": "code",
   "execution_count": 90,
   "metadata": {},
   "outputs": [],
   "source": [
    "del data\n",
    "del d"
   ]
  },
  {
   "cell_type": "code",
   "execution_count": 91,
   "metadata": {},
   "outputs": [
    {
     "name": "stdout",
     "output_type": "stream",
     "text": [
      "Measures:\n",
      "HS: 0.00025595347509707654\n",
      "CS: 0.00041612199921129745\n",
      "VM: 0.0003169521157488471\n",
      "AMI: 9.144483322084144e-05\n",
      "ARI: 0.00010341959519484977\n"
     ]
    }
   ],
   "source": [
    "#printing results\n",
    "#print('labels:')\n",
    "# print(labelsPred)\n",
    "\n",
    "# tEnd = datetime.datetime.now()\n",
    "# print('Time: ' + str(tEnd - tStart))\n",
    "print('Measures:')\n",
    "print('HS: ' + str(metrics.homogeneity_score(y,labelsPred)))\n",
    "print('CS: ' + str(metrics.completeness_score(y,labelsPred)))\n",
    "print('VM: ' + str(metrics.v_measure_score(y,labelsPred)))\n",
    "print('AMI: ' + str(metrics.adjusted_mutual_info_score(y,labelsPred)))\n",
    "print('ARI: ' + str(metrics.adjusted_rand_score(y,labelsPred)))"
   ]
  },
  {
   "cell_type": "code",
   "execution_count": 92,
   "metadata": {},
   "outputs": [
    {
     "data": {
      "image/png": "[encoded data removed]",
      "text/plain": [
       "<Figure size 432x288 with 1 Axes>"
      ]
     },
     "metadata": {},
     "output_type": "display_data"
    }
   ],
   "source": [
    "import matplotlib.pyplot as plt\n",
    "from itertools import cycle, islice \n",
    "\n",
    "fig = plt.figure()      \n",
    "colors = np.array(list(islice(cycle(['#377eb8', '#ff7f00', '#4daf4a','#f781bf', '#a65628', '#984ea3',\n",
    "                                    '#999999', '#e41a1c', '#dede00']),int(k))))\n",
    "plt.scatter(x[:, 0], x[:, 1], s=10, color=colors[labelsPred.tolist()])\n",
    "plt.show()\n",
    "# plt.clf()"
   ]
  },
  {
   "cell_type": "code",
   "execution_count": null,
   "metadata": {},
   "outputs": [],
   "source": []
  }
 ],
 "metadata": {
  "kernelspec": {
   "display_name": "Python 3",
   "language": "python",
   "name": "python3"
  },
  "language_info": {
   "codemirror_mode": {
    "name": "ipython",
    "version": 3
   },
   "file_extension": ".py",
   "mimetype": "text/x-python",
   "name": "python",
   "nbconvert_exporter": "python",
   "pygments_lexer": "ipython3",
   "version": "3.6.9"
  }
 },
 "nbformat": 4,
 "nbformat_minor": 4
}
